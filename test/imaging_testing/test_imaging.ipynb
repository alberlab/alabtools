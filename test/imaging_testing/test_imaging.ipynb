{
 "cells": [
  {
   "attachments": {},
   "cell_type": "markdown",
   "metadata": {},
   "source": [
    "# Testing of imgaging.py"
   ]
  },
  {
   "cell_type": "code",
   "execution_count": 1,
   "metadata": {},
   "outputs": [],
   "source": [
    "import numpy as np\n",
    "import sys\n",
    "import os\n",
    "# we are in alabtools/test/imaging_testing\n",
    "# we have to import functions in alabtools/\n",
    "sys.path.append(os.path.abspath('../..'))\n",
    "from alabtools.utils import Genome, Index\n",
    "from alabtools.imaging import CtFile"
   ]
  },
  {
   "attachments": {},
   "cell_type": "markdown",
   "metadata": {},
   "source": [
    "The standardized data by 4DN for Chromatin Tracing is FOF-CT (Fish Omics Format - Chromatin Tracing).\n",
    "\n",
    "I have downloaded a few datasets from different labs to test the code.\n",
    "\n",
    "I have also created two cvs test files, with just a few lines, so that we can test the output."
   ]
  },
  {
   "attachments": {},
   "cell_type": "markdown",
   "metadata": {},
   "source": [
    "First, I am going to read the data from one test file."
   ]
  },
  {
   "cell_type": "code",
   "execution_count": 2,
   "metadata": {},
   "outputs": [
    {
     "name": "stdout",
     "output_type": "stream",
     "text": [
      "Assembly hg38 found in alabtools/genomes. Using this.\n"
     ]
    },
    {
     "name": "stderr",
     "output_type": "stream",
     "text": [
      "chroms or lengths not given, reading from genomes info file.\n"
     ]
    }
   ],
   "source": [
    "if os.path.exists('ct_test1.ct'):\n",
    "    os.system('rm ct_test1.ct')  # remove the file if it exists\n",
    "# Reading the test csv file 1\n",
    "ct = CtFile('ct_test1.ct', 'w')  # initialize the ct file\n",
    "ct.set_from_fofct('./data/csv_test_1.csv')  # read the FOFCT file"
   ]
  },
  {
   "attachments": {},
   "cell_type": "markdown",
   "metadata": {},
   "source": [
    "A CT file is very similar to an HSS one. It is an HDF5 file, and has a genome and an index objects as data.\n",
    "\n",
    "There is an important difference though. HDF5 files support only homogeneous arrays (i.e. hyperrectangules) as dataset. For Chromatin Tracing, the data is inherently heterogeneous: for example, the number of spots can change by copy/domain/cell. Here this issue is solved by max-padding: the dimensions are increased to match the maximum values, and the rest is set to NaN. This is applied to both coordinates and number of spots, and consequently there are two attributes (nspot_max and ncopy_max) that are used for max-padding only.\n",
    "\n",
    "CT attributes:\n",
    "\n",
    "    - ncell : number of cells\n",
    "    - ndomain : number of domains (in Index object)\n",
    "    - nspot_tot : total number of spots measured\n",
    "    - ntrace_tot : total number of chromatin traces identified\n",
    "    - nspot_max : maximum number of spots per copy/domain/cell\n",
    "    - ncopy_max : maximum number of copies per domain/cell\n",
    "\n",
    "CT datasets:\n",
    "\n",
    "    - cell_labels : np.array(ncell, dtype='str'), contains cellIDs\n",
    "    - coordinates : np.array(ncell, ndomain, ncopy_max, nspot_max, 3)\n",
    "    - nspot: np.array(ncell, ndomain, ncopy_max), number of spots per copy/domain/cell\n",
    "    - ncopy: np.array(ncell, ndomain), number of copies per domain/cell"
   ]
  },
  {
   "cell_type": "code",
   "execution_count": 3,
   "metadata": {},
   "outputs": [
    {
     "name": "stdout",
     "output_type": "stream",
     "text": [
      "ct.ncell = 4\n",
      "ct.ndomain = 4\n",
      "ct.nspot_tot = 5\n",
      "ct.ntrace_tot = 4\n",
      "ct.nspot_max = 1\n",
      "ct.ncopy_max = 1\n",
      "ct.cell_labels.shape = (4,)\n",
      "ct.coordinates.shape = (4, 4, 1, 1, 3)\n",
      "ct.nspot.shape = (4, 4, 1)\n",
      "ct.ncopy.shape = (4, 4)\n"
     ]
    }
   ],
   "source": [
    "print('ct.ncell = {}'.format(ct.ncell))\n",
    "print('ct.ndomain = {}'.format(ct.ndomain))\n",
    "print('ct.nspot_tot = {}'.format(ct.nspot_tot))\n",
    "print('ct.ntrace_tot = {}'.format(ct.ntrace_tot))\n",
    "print('ct.nspot_max = {}'.format(ct.nspot_max))\n",
    "print('ct.ncopy_max = {}'.format(ct.ncopy_max))\n",
    "print('ct.cell_labels.shape = {}'.format(ct.cell_labels.shape))\n",
    "print('ct.coordinates.shape = {}'.format(ct.coordinates.shape)) \n",
    "print('ct.nspot.shape = {}'.format(ct.nspot.shape))\n",
    "print('ct.ncopy.shape = {}'.format(ct.ncopy.shape))"
   ]
  },
  {
   "cell_type": "code",
   "execution_count": 4,
   "metadata": {},
   "outputs": [
    {
     "name": "stdout",
     "output_type": "stream",
     "text": [
      "True\n",
      "True\n",
      "True\n",
      "True\n",
      "[[[[[ 1.   2.   3. ]]]\n",
      "\n",
      "\n",
      "  [[[ 8.   9.   1.5]]]\n",
      "\n",
      "\n",
      "  [[[ nan  nan  nan]]]\n",
      "\n",
      "\n",
      "  [[[ nan  nan  nan]]]]\n",
      "\n",
      "\n",
      "\n",
      " [[[[ nan  nan  nan]]]\n",
      "\n",
      "\n",
      "  [[[ 3.   7.   5. ]]]\n",
      "\n",
      "\n",
      "  [[[ nan  nan  nan]]]\n",
      "\n",
      "\n",
      "  [[[ nan  nan  nan]]]]\n",
      "\n",
      "\n",
      "\n",
      " [[[[ nan  nan  nan]]]\n",
      "\n",
      "\n",
      "  [[[ nan  nan  nan]]]\n",
      "\n",
      "\n",
      "  [[[ 6.   3.4  9. ]]]\n",
      "\n",
      "\n",
      "  [[[ nan  nan  nan]]]]\n",
      "\n",
      "\n",
      "\n",
      " [[[[ nan  nan  nan]]]\n",
      "\n",
      "\n",
      "  [[[ nan  nan  nan]]]\n",
      "\n",
      "\n",
      "  [[[ nan  nan  nan]]]\n",
      "\n",
      "\n",
      "  [[[11.   3.   8. ]]]]]\n"
     ]
    }
   ],
   "source": [
    "# Test data has been imported correctly\n",
    "print(ct.genome.assembly == 'hg38')\n",
    "print(np.all(ct.index.chromstr == np.array(['chr1', 'chr1', 'chr4', 'chr7'])))\n",
    "print(np.all(ct.index.start == np.array([0, 10000, 10000, 5000])))\n",
    "print(np.all(ct.index.end == np.array([10000, 22000, 20500, 15000])))\n",
    "print(ct.coordinates)"
   ]
  },
  {
   "attachments": {},
   "cell_type": "markdown",
   "metadata": {},
   "source": [
    "The header of csv_test_1 was complete.\n",
    "\n",
    "Some datasets don't have a complete header, only having the column names. In this case it's necessary to include the assembly manually.\n",
    "\n",
    "I have coded these cases as well, and created a csv test 2 to check that everything works correctly."
   ]
  },
  {
   "cell_type": "code",
   "execution_count": 5,
   "metadata": {},
   "outputs": [
    {
     "name": "stdout",
     "output_type": "stream",
     "text": [
      "Assembly not found in FOF-CT file. Using the one provided.\n",
      "Assembly hg38 found in alabtools/genomes. Using this.\n"
     ]
    },
    {
     "name": "stderr",
     "output_type": "stream",
     "text": [
      "chroms or lengths not given, reading from genomes info file.\n"
     ]
    }
   ],
   "source": [
    "if os.path.exists('ct_test2.ct'):\n",
    "    os.system('rm ct_test2.ct')  # remove the file if it exists\n",
    "# Reading the test csv file 2\n",
    "ct2 = CtFile('ct_test2.ct', 'w')\n",
    "ct2.set_from_fofct('./data/csv_test_2.csv', 'hg38')"
   ]
  },
  {
   "cell_type": "code",
   "execution_count": 6,
   "metadata": {},
   "outputs": [
    {
     "name": "stdout",
     "output_type": "stream",
     "text": [
      "True\n",
      "True\n",
      "True\n",
      "True\n",
      "[[[[[1.1 2.  3. ]]]\n",
      "\n",
      "\n",
      "  [[[nan nan nan]]]]\n",
      "\n",
      "\n",
      "\n",
      " [[[[nan nan nan]]]\n",
      "\n",
      "\n",
      "  [[[3.5 7.  9.1]]]]\n",
      "\n",
      "\n",
      "\n",
      " [[[[nan nan nan]]]\n",
      "\n",
      "\n",
      "  [[[5.4 6.  8.9]]]]]\n"
     ]
    }
   ],
   "source": [
    "# Test data has been imported correctly\n",
    "print(ct2.genome.assembly == 'hg38')\n",
    "print(np.all(ct2.index.chromstr == np.array(['chr1', 'chr2'])))\n",
    "print(np.all(ct2.index.start == np.array([0, 5000])))\n",
    "print(np.all(ct2.index.end == np.array([5000, 11200])))\n",
    "print(ct2.coordinates)"
   ]
  },
  {
   "attachments": {},
   "cell_type": "markdown",
   "metadata": {},
   "source": [
    "There is also a merging feature. This should be used when we combine independent data of the same experiment, e.g. biological replicates.\n",
    "\n",
    "The merging requires that the Genome and the Index objects are the same. Additionaly, it requires that there is no overlab between the cell_labels: if there is, users should input tags to distinguish between the replicates."
   ]
  },
  {
   "cell_type": "code",
   "execution_count": 7,
   "metadata": {},
   "outputs": [
    {
     "ename": "ValueError",
     "evalue": "Cannot merge CtFile instances with different genomes.",
     "output_type": "error",
     "traceback": [
      "\u001b[0;31m---------------------------------------------------------------------------\u001b[0m",
      "\u001b[0;31mValueError\u001b[0m                                Traceback (most recent call last)",
      "\u001b[0;32m/tmp/ipykernel_17756/941022408.py\u001b[0m in \u001b[0;36m<module>\u001b[0;34m\u001b[0m\n\u001b[1;32m      2\u001b[0m \u001b[0;32mif\u001b[0m \u001b[0mos\u001b[0m\u001b[0;34m.\u001b[0m\u001b[0mpath\u001b[0m\u001b[0;34m.\u001b[0m\u001b[0mexists\u001b[0m\u001b[0;34m(\u001b[0m\u001b[0;34m'ct_test3.ct'\u001b[0m\u001b[0;34m)\u001b[0m\u001b[0;34m:\u001b[0m\u001b[0;34m\u001b[0m\u001b[0;34m\u001b[0m\u001b[0m\n\u001b[1;32m      3\u001b[0m     \u001b[0mos\u001b[0m\u001b[0;34m.\u001b[0m\u001b[0msystem\u001b[0m\u001b[0;34m(\u001b[0m\u001b[0;34m'rm ct_test3.ct'\u001b[0m\u001b[0;34m)\u001b[0m  \u001b[0;31m# remove the file if it exists\u001b[0m\u001b[0;34m\u001b[0m\u001b[0;34m\u001b[0m\u001b[0m\n\u001b[0;32m----> 4\u001b[0;31m \u001b[0mct3\u001b[0m \u001b[0;34m=\u001b[0m \u001b[0mct\u001b[0m\u001b[0;34m.\u001b[0m\u001b[0mmerge\u001b[0m\u001b[0;34m(\u001b[0m\u001b[0mct2\u001b[0m\u001b[0;34m,\u001b[0m \u001b[0;34m'ct_test3.ct'\u001b[0m\u001b[0;34m)\u001b[0m  \u001b[0;31m# merge the two ct files\u001b[0m\u001b[0;34m\u001b[0m\u001b[0;34m\u001b[0m\u001b[0m\n\u001b[0m",
      "\u001b[0;32m/u/project/falber/fmusella/alabtools/alabtools/imaging.py\u001b[0m in \u001b[0;36mmerge\u001b[0;34m(self, other, new_name, tag1, tag2)\u001b[0m\n\u001b[1;32m    265\u001b[0m \u001b[0;34m\u001b[0m\u001b[0m\n\u001b[1;32m    266\u001b[0m         \u001b[0;32mif\u001b[0m \u001b[0mself\u001b[0m\u001b[0;34m.\u001b[0m\u001b[0mgenome\u001b[0m \u001b[0;34m!=\u001b[0m \u001b[0mother\u001b[0m\u001b[0;34m.\u001b[0m\u001b[0mgenome\u001b[0m\u001b[0;34m:\u001b[0m\u001b[0;34m\u001b[0m\u001b[0;34m\u001b[0m\u001b[0m\n\u001b[0;32m--> 267\u001b[0;31m             \u001b[0;32mraise\u001b[0m \u001b[0mValueError\u001b[0m\u001b[0;34m(\u001b[0m\u001b[0;34m'Cannot merge CtFile instances with different genomes.'\u001b[0m\u001b[0;34m)\u001b[0m\u001b[0;34m\u001b[0m\u001b[0;34m\u001b[0m\u001b[0m\n\u001b[0m\u001b[1;32m    268\u001b[0m         \u001b[0;32mif\u001b[0m \u001b[0mself\u001b[0m\u001b[0;34m.\u001b[0m\u001b[0mindex\u001b[0m \u001b[0;34m!=\u001b[0m \u001b[0mother\u001b[0m\u001b[0;34m.\u001b[0m\u001b[0mindex\u001b[0m\u001b[0;34m:\u001b[0m\u001b[0;34m\u001b[0m\u001b[0;34m\u001b[0m\u001b[0m\n\u001b[1;32m    269\u001b[0m             \u001b[0;32mraise\u001b[0m \u001b[0mValueError\u001b[0m\u001b[0;34m(\u001b[0m\u001b[0;34m'Cannot merge CtFile instances with different indexes.'\u001b[0m\u001b[0;34m)\u001b[0m\u001b[0;34m\u001b[0m\u001b[0;34m\u001b[0m\u001b[0m\n",
      "\u001b[0;31mValueError\u001b[0m: Cannot merge CtFile instances with different genomes."
     ]
    }
   ],
   "source": [
    "# Try merging ct and ct2: fails because genome/index are different\n",
    "if os.path.exists('ct_test3.ct'):\n",
    "    os.system('rm ct_test3.ct')  # remove the file if it exists\n",
    "ct3 = ct.merge(ct2, 'ct_test3.ct')  # merge the two ct files"
   ]
  },
  {
   "cell_type": "code",
   "execution_count": 8,
   "metadata": {},
   "outputs": [],
   "source": [
    "# Merge ct with itself with tags\n",
    "if os.path.exists('ct_test3.ct'):\n",
    "    os.system('rm ct_test3.ct')  # remove the file if it exists\n",
    "ct3 = ct.merge(ct, 'ct_test3.ct', '_rep1', '_rep2')  # merge the two ct files"
   ]
  },
  {
   "cell_type": "code",
   "execution_count": 9,
   "metadata": {},
   "outputs": [
    {
     "name": "stdout",
     "output_type": "stream",
     "text": [
      "True\n",
      "True\n",
      "True\n",
      "True\n",
      "[[[[[ 1.         2.         3.       ]]]\n",
      "\n",
      "\n",
      "  [[[ 8.         9.         1.5      ]]]\n",
      "\n",
      "\n",
      "  [[[       nan        nan        nan]]]\n",
      "\n",
      "\n",
      "  [[[       nan        nan        nan]]]]\n",
      "\n",
      "\n",
      "\n",
      " [[[[       nan        nan        nan]]]\n",
      "\n",
      "\n",
      "  [[[ 3.         7.         5.       ]]]\n",
      "\n",
      "\n",
      "  [[[       nan        nan        nan]]]\n",
      "\n",
      "\n",
      "  [[[       nan        nan        nan]]]]\n",
      "\n",
      "\n",
      "\n",
      " [[[[       nan        nan        nan]]]\n",
      "\n",
      "\n",
      "  [[[       nan        nan        nan]]]\n",
      "\n",
      "\n",
      "  [[[ 6.         3.4000001  9.       ]]]\n",
      "\n",
      "\n",
      "  [[[       nan        nan        nan]]]]\n",
      "\n",
      "\n",
      "\n",
      " [[[[       nan        nan        nan]]]\n",
      "\n",
      "\n",
      "  [[[       nan        nan        nan]]]\n",
      "\n",
      "\n",
      "  [[[       nan        nan        nan]]]\n",
      "\n",
      "\n",
      "  [[[11.         3.         8.       ]]]]\n",
      "\n",
      "\n",
      "\n",
      " [[[[ 1.         2.         3.       ]]]\n",
      "\n",
      "\n",
      "  [[[ 8.         9.         1.5      ]]]\n",
      "\n",
      "\n",
      "  [[[       nan        nan        nan]]]\n",
      "\n",
      "\n",
      "  [[[       nan        nan        nan]]]]\n",
      "\n",
      "\n",
      "\n",
      " [[[[       nan        nan        nan]]]\n",
      "\n",
      "\n",
      "  [[[ 3.         7.         5.       ]]]\n",
      "\n",
      "\n",
      "  [[[       nan        nan        nan]]]\n",
      "\n",
      "\n",
      "  [[[       nan        nan        nan]]]]\n",
      "\n",
      "\n",
      "\n",
      " [[[[       nan        nan        nan]]]\n",
      "\n",
      "\n",
      "  [[[       nan        nan        nan]]]\n",
      "\n",
      "\n",
      "  [[[ 6.         3.4000001  9.       ]]]\n",
      "\n",
      "\n",
      "  [[[       nan        nan        nan]]]]\n",
      "\n",
      "\n",
      "\n",
      " [[[[       nan        nan        nan]]]\n",
      "\n",
      "\n",
      "  [[[       nan        nan        nan]]]\n",
      "\n",
      "\n",
      "  [[[       nan        nan        nan]]]\n",
      "\n",
      "\n",
      "  [[[11.         3.         8.       ]]]]]\n"
     ]
    }
   ],
   "source": [
    "# Test meging was correct\n",
    "print(ct3.genome.assembly == 'hg38')\n",
    "print(np.all(ct3.index.chromstr == np.array(['chr1', 'chr1', 'chr4', 'chr7'])))\n",
    "print(np.all(ct3.index.start == np.array([0, 10000, 10000, 5000])))\n",
    "print(np.all(ct3.index.end == np.array([10000, 22000, 20500, 15000])))\n",
    "print(ct3.coordinates)"
   ]
  },
  {
   "cell_type": "code",
   "execution_count": 10,
   "metadata": {},
   "outputs": [],
   "source": [
    "ct.close()\n",
    "ct2.close()\n",
    "ct3.close()"
   ]
  },
  {
   "attachments": {},
   "cell_type": "markdown",
   "metadata": {},
   "source": [
    "Now we can load the actual file and check that everything works."
   ]
  },
  {
   "cell_type": "code",
   "execution_count": 11,
   "metadata": {},
   "outputs": [
    {
     "name": "stdout",
     "output_type": "stream",
     "text": [
      "Assembly mm10 found in alabtools/genomes. Using this.\n"
     ]
    },
    {
     "name": "stderr",
     "output_type": "stream",
     "text": [
      "chroms or lengths not given, reading from genomes info file.\n"
     ]
    }
   ],
   "source": [
    "if os.path.exists('ct_takei_rep1.ct'):\n",
    "    os.system('rm ct_takei_rep1.ct')  # remove the file if it exists\n",
    "ct = CtFile('ct_takei_rep1.ct', 'w')\n",
    "ct.set_from_fofct('./data/takei_mesc_DNA-tracing_1Mb_rep1.csv')"
   ]
  },
  {
   "cell_type": "code",
   "execution_count": 12,
   "metadata": {},
   "outputs": [
    {
     "name": "stdout",
     "output_type": "stream",
     "text": [
      "Assembly mm10 found in alabtools/genomes. Using this.\n"
     ]
    },
    {
     "name": "stderr",
     "output_type": "stream",
     "text": [
      "chroms or lengths not given, reading from genomes info file.\n"
     ]
    }
   ],
   "source": [
    "if os.path.exists('ct_takei_rep2.ct'):\n",
    "    os.system('rm ct_takei_rep2.ct')  # remove the file if it exists\n",
    "ct2 = CtFile('ct_takei_rep2.ct', 'w')\n",
    "ct2.set_from_fofct('./data/takei_mesc_DNA-tracing_1Mb_rep2.csv')"
   ]
  },
  {
   "cell_type": "code",
   "execution_count": 16,
   "metadata": {},
   "outputs": [],
   "source": [
    "ct3 = ct.merge(ct2, 'ct_takei_comb.ct', '_rep1', '_rep2')  # merge the two ct files"
   ]
  },
  {
   "cell_type": "code",
   "execution_count": 17,
   "metadata": {},
   "outputs": [
    {
     "name": "stdout",
     "output_type": "stream",
     "text": [
      "446\n",
      "2460\n",
      "1795228\n",
      "8919\n",
      "15\n",
      "1\n",
      "(446,)\n",
      "(446, 2460, 1, 15, 3)\n",
      "(446, 2460, 1)\n",
      "(446, 2460)\n"
     ]
    }
   ],
   "source": [
    "print(ct3.ncell)\n",
    "print(ct3.ndomain)\n",
    "print(ct3.nspot_tot)\n",
    "print(ct3.ntrace_tot)\n",
    "print(ct3.nspot_max)\n",
    "print(ct3.ncopy_max)\n",
    "print(ct3.cell_labels.shape)\n",
    "print(ct3.coordinates.shape)\n",
    "print(ct3.nspot.shape)\n",
    "print(ct3.ncopy.shape)\n"
   ]
  },
  {
   "cell_type": "code",
   "execution_count": 19,
   "metadata": {},
   "outputs": [
    {
     "name": "stdout",
     "output_type": "stream",
     "text": [
      "True\n"
     ]
    }
   ],
   "source": [
    "# Check that the Index object is correctly created from the FOFCT file\n",
    "\n",
    "i = Index('./data/domains_takei.bed', ct3.genome)\n",
    "\n",
    "print(i == ct3.index)\n",
    "\n",
    "ct.close()\n",
    "ct2.close()\n",
    "ct3.close()"
   ]
  },
  {
   "attachments": {},
   "cell_type": "markdown",
   "metadata": {},
   "source": [
    "Try other datasets. I just want to check that they are imported correctly, or that the appropriate error message is shown."
   ]
  },
  {
   "cell_type": "code",
   "execution_count": 20,
   "metadata": {},
   "outputs": [
    {
     "name": "stdout",
     "output_type": "stream",
     "text": [
      "Assembly mm10 found in alabtools/genomes. Using this.\n"
     ]
    },
    {
     "name": "stderr",
     "output_type": "stream",
     "text": [
      "chroms or lengths not given, reading from genomes info file.\n"
     ]
    },
    {
     "name": "stdout",
     "output_type": "stream",
     "text": [
      "(201, 1200, 4, 6, 3)\n"
     ]
    }
   ],
   "source": [
    "# Data from Takei (25kb)\n",
    "\n",
    "if os.path.exists('ct_takei25_rep1.ct'):\n",
    "    os.system('rm ct_takei25_rep1.ct')  # remove the file if it exists\n",
    "ct = CtFile('ct_takei25_rep1.ct', 'w')\n",
    "ct.set_from_fofct('./data/takei_mesc_DNA-tracing_25kb_rep1.csv')\n",
    "\n",
    "print(ct.coordinates.shape)"
   ]
  },
  {
   "attachments": {},
   "cell_type": "markdown",
   "metadata": {},
   "source": [
    "The shape of the coordinates array is (201, 1200, 4, 6, 3).\n",
    "\n",
    "I was surprised to see that ncopy_max = 4, because Takei assumes there are only 2 copies.\n",
    "\n",
    "We can check the cellID and the chromosome of the domains with 4 copies (see below).\n",
    "\n",
    "These domains are in cell 0_44 chr11 and 4_11 chr18.\n",
    "I checked on the cvs file that these spots are indeed traced in 4 copies (see lines 62780 and 276439).\n",
    "I also checked that some spot have a -1 trace (see line 1527, traceID=0_2_1_-1).\n",
    "This is likely a mistake, but I don't think we can code to account for this."
   ]
  },
  {
   "cell_type": "code",
   "execution_count": 21,
   "metadata": {},
   "outputs": [
    {
     "name": "stdout",
     "output_type": "stream",
     "text": [
      "(array([ 38,  38,  38,  38,  38,  75,  75, 172, 172, 172, 172, 172, 172]), array([ 633,  636,  638,  644,  645,  632, 1037, 1032, 1033, 1048, 1068,\n",
      "       1072, 1079]))\n",
      "38 633 0_44 chr11\n",
      "38 636 0_44 chr11\n",
      "38 638 0_44 chr11\n",
      "38 644 0_44 chr11\n",
      "38 645 0_44 chr11\n",
      "75 632 1_36 chr11\n",
      "75 1037 1_36 chr18\n",
      "172 1032 4_11 chr18\n",
      "172 1033 4_11 chr18\n",
      "172 1048 4_11 chr18\n",
      "172 1068 4_11 chr18\n",
      "172 1072 4_11 chr18\n",
      "172 1079 4_11 chr18\n"
     ]
    }
   ],
   "source": [
    "print(np.where(ct.ncopy == 4))\n",
    "for cell_idx, dom_idx in zip(*np.where(ct.ncopy == 4)):\n",
    "    print(cell_idx, dom_idx, ct.cell_labels[cell_idx], ct.index.chromstr[dom_idx])"
   ]
  },
  {
   "cell_type": "code",
   "execution_count": 22,
   "metadata": {},
   "outputs": [],
   "source": [
    "ct.close()"
   ]
  },
  {
   "cell_type": "code",
   "execution_count": 23,
   "metadata": {},
   "outputs": [
    {
     "name": "stdout",
     "output_type": "stream",
     "text": [
      "Assembly grcm38 found in alabtools/genomes. Using this.\n"
     ]
    },
    {
     "name": "stderr",
     "output_type": "stream",
     "text": [
      "chroms or lengths not given, reading from genomes info file.\n"
     ]
    },
    {
     "name": "stdout",
     "output_type": "stream",
     "text": [
      "(752, 42, 2, 1, 3)\n"
     ]
    }
   ],
   "source": [
    "# Data from Bing Ren's lab\n",
    "\n",
    "if os.path.exists('ct_bingren.ct'):\n",
    "    os.system('rm ct_bingren.ct')  # remove the file if it exists\n",
    "ct = CtFile('ct_bingren.ct', 'w')\n",
    "ct.set_from_fofct('./data/bingren_4DNFIKPGMZJ8.csv')\n",
    "\n",
    "print(ct.coordinates.shape)\n",
    "ct.close()"
   ]
  },
  {
   "cell_type": "code",
   "execution_count": 24,
   "metadata": {},
   "outputs": [
    {
     "ename": "ValueError",
     "evalue": "Assembly dm6 not found in alabtools/genomes. Need to include it.",
     "output_type": "error",
     "traceback": [
      "\u001b[0;31m---------------------------------------------------------------------------\u001b[0m",
      "\u001b[0;31mValueError\u001b[0m                                Traceback (most recent call last)",
      "\u001b[0;32m/tmp/ipykernel_17756/913098266.py\u001b[0m in \u001b[0;36m<module>\u001b[0;34m\u001b[0m\n\u001b[1;32m      6\u001b[0m     \u001b[0mos\u001b[0m\u001b[0;34m.\u001b[0m\u001b[0msystem\u001b[0m\u001b[0;34m(\u001b[0m\u001b[0;34m'rm ct_boettiger.ct'\u001b[0m\u001b[0;34m)\u001b[0m  \u001b[0;31m# remove the file if it exists\u001b[0m\u001b[0;34m\u001b[0m\u001b[0;34m\u001b[0m\u001b[0m\n\u001b[1;32m      7\u001b[0m \u001b[0mct\u001b[0m \u001b[0;34m=\u001b[0m \u001b[0mCtFile\u001b[0m\u001b[0;34m(\u001b[0m\u001b[0;34m'ct_boettiger.ct'\u001b[0m\u001b[0;34m,\u001b[0m \u001b[0;34m'w'\u001b[0m\u001b[0;34m)\u001b[0m\u001b[0;34m\u001b[0m\u001b[0;34m\u001b[0m\u001b[0m\n\u001b[0;32m----> 8\u001b[0;31m \u001b[0mct\u001b[0m\u001b[0;34m.\u001b[0m\u001b[0mset_from_fofct\u001b[0m\u001b[0;34m(\u001b[0m\u001b[0;34m'./data/boettiger_4DNFI5WLD5KM.csv'\u001b[0m\u001b[0;34m)\u001b[0m\u001b[0;34m\u001b[0m\u001b[0;34m\u001b[0m\u001b[0m\n\u001b[0m\u001b[1;32m      9\u001b[0m \u001b[0;34m\u001b[0m\u001b[0m\n\u001b[1;32m     10\u001b[0m \u001b[0mprint\u001b[0m\u001b[0;34m(\u001b[0m\u001b[0mct\u001b[0m\u001b[0;34m.\u001b[0m\u001b[0mcoordinates\u001b[0m\u001b[0;34m.\u001b[0m\u001b[0mshape\u001b[0m\u001b[0;34m)\u001b[0m\u001b[0;34m\u001b[0m\u001b[0;34m\u001b[0m\u001b[0m\n",
      "\u001b[0;32m/u/project/falber/fmusella/alabtools/alabtools/imaging.py\u001b[0m in \u001b[0;36mset_from_fofct\u001b[0;34m(self, fofct_file, in_assembly)\u001b[0m\n\u001b[1;32m    361\u001b[0m                 \u001b[0;32mbreak\u001b[0m\u001b[0;34m\u001b[0m\u001b[0;34m\u001b[0m\u001b[0m\n\u001b[1;32m    362\u001b[0m         \u001b[0;32mif\u001b[0m \u001b[0;32mnot\u001b[0m \u001b[0mfound_assembly\u001b[0m\u001b[0;34m:\u001b[0m\u001b[0;34m\u001b[0m\u001b[0;34m\u001b[0m\u001b[0m\n\u001b[0;32m--> 363\u001b[0;31m             \u001b[0;32mraise\u001b[0m \u001b[0mValueError\u001b[0m\u001b[0;34m(\u001b[0m\u001b[0;34m'Assembly {} not found in alabtools/genomes. Need to include it.'\u001b[0m\u001b[0;34m.\u001b[0m\u001b[0mformat\u001b[0m\u001b[0;34m(\u001b[0m\u001b[0ma\u001b[0m\u001b[0;34m)\u001b[0m\u001b[0;34m)\u001b[0m\u001b[0;34m\u001b[0m\u001b[0;34m\u001b[0m\u001b[0m\n\u001b[0m\u001b[1;32m    364\u001b[0m         \u001b[0mself\u001b[0m\u001b[0;34m.\u001b[0m\u001b[0mset_genome\u001b[0m\u001b[0;34m(\u001b[0m\u001b[0mgenome\u001b[0m\u001b[0;34m)\u001b[0m\u001b[0;34m\u001b[0m\u001b[0;34m\u001b[0m\u001b[0m\n\u001b[1;32m    365\u001b[0m \u001b[0;34m\u001b[0m\u001b[0m\n",
      "\u001b[0;31mValueError\u001b[0m: Assembly dm6 not found in alabtools/genomes. Need to include it."
     ]
    }
   ],
   "source": [
    "# Data from Boettiger's lab\n",
    "\n",
    "# This dataset is for Drosophila melanogaster (dm6), which is not in alabtools/genomes. So we raise an error.\n",
    "\n",
    "if os.path.exists('ct_boettiger.ct'):\n",
    "    os.system('rm ct_boettiger.ct')  # remove the file if it exists\n",
    "ct = CtFile('ct_boettiger.ct', 'w')\n",
    "ct.set_from_fofct('./data/boettiger_4DNFI5WLD5KM.csv')\n",
    "\n",
    "print(ct.coordinates.shape)\n",
    "ct.close()"
   ]
  },
  {
   "cell_type": "code",
   "execution_count": 25,
   "metadata": {},
   "outputs": [
    {
     "name": "stdout",
     "output_type": "stream",
     "text": [
      "Assembly not found in FOF-CT file. Using the one provided.\n",
      "Assembly hg38 found in alabtools/genomes. Using this.\n"
     ]
    },
    {
     "name": "stderr",
     "output_type": "stream",
     "text": [
      "chroms or lengths not given, reading from genomes info file.\n"
     ]
    },
    {
     "name": "stdout",
     "output_type": "stream",
     "text": [
      "(9526, 83, 1, 1, 3)\n"
     ]
    }
   ],
   "source": [
    "# Another dataset from Boettiger's lab, this time for human (hg38)\n",
    "\n",
    "# The dataset doesn't have a proper header, but it's still imported if we specify the genome\n",
    "\n",
    "# Furthermore, the dataset doesn't have a cellID column: that's because only one chromosome per cell\n",
    "#   is imaged, so the cellID is redundant.\n",
    "\n",
    "if os.path.exists('ct_boettiger.ct'):\n",
    "    os.system('rm ct_boettiger.ct')  # remove the file if it exists\n",
    "ct = CtFile('ct_boettiger.ct', 'w')\n",
    "ct.set_from_fofct('./data/boettiger_4DNFIHZRN68I.csv', 'hg38')\n",
    "\n",
    "print(ct.coordinates.shape)\n",
    "ct.close()"
   ]
  },
  {
   "cell_type": "code",
   "execution_count": 26,
   "metadata": {},
   "outputs": [
    {
     "name": "stdout",
     "output_type": "stream",
     "text": [
      "Assembly grch38 found in alabtools/genomes. Using this.\n"
     ]
    },
    {
     "name": "stderr",
     "output_type": "stream",
     "text": [
      "chroms or lengths not given, reading from genomes info file.\n"
     ]
    },
    {
     "name": "stdout",
     "output_type": "stream",
     "text": [
      "(1038, 28, 1, 1, 3)\n"
     ]
    }
   ],
   "source": [
    "# Dataset from Wang's lab\n",
    "\n",
    "# Here as well there isn't a cellID column\n",
    "\n",
    "if os.path.exists('ct_wang.ct'):\n",
    "    os.system('rm ct_wang.ct')  # remove the file if it exists\n",
    "ct = CtFile('ct_wang.ct', 'w')\n",
    "ct.set_from_fofct('./data/wang_4DNFI7PBQK6G.csv')\n",
    "\n",
    "print(ct.coordinates.shape)"
   ]
  },
  {
   "cell_type": "code",
   "execution_count": null,
   "metadata": {},
   "outputs": [],
   "source": []
  }
 ],
 "metadata": {
  "kernelspec": {
   "display_name": "base",
   "language": "python",
   "name": "python3"
  },
  "language_info": {
   "codemirror_mode": {
    "name": "ipython",
    "version": 3
   },
   "file_extension": ".py",
   "mimetype": "text/x-python",
   "name": "python",
   "nbconvert_exporter": "python",
   "pygments_lexer": "ipython3",
   "version": "3.7.3"
  },
  "orig_nbformat": 4
 },
 "nbformat": 4,
 "nbformat_minor": 2
}
