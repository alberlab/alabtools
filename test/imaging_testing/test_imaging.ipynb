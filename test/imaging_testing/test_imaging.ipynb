{
 "cells": [
  {
   "attachments": {},
   "cell_type": "markdown",
   "metadata": {},
   "source": [
    "# Testing of imgaging.py"
   ]
  },
  {
   "cell_type": "code",
   "execution_count": 1,
   "metadata": {},
   "outputs": [],
   "source": [
    "import numpy as np\n",
    "import sys\n",
    "import os\n",
    "# we are in alabtools/test/imaging_testing\n",
    "# we have to import functions in alabtools/\n",
    "sys.path.append(os.path.abspath('../..'))\n",
    "from alabtools.utils import Genome, Index\n",
    "from alabtools.imaging import CtFile"
   ]
  },
  {
   "attachments": {},
   "cell_type": "markdown",
   "metadata": {},
   "source": [
    "The standardized data by 4DN for Chromatin Tracing is FOF-CT (Fish Omics Format - Chromatin Tracing).\n",
    "\n",
    "I have downloaded a few datasets from different labs to test the code.\n",
    "\n",
    "For quicker tests, I also create two files - taken from an original FOF-CT - that have only 1000 lines each."
   ]
  },
  {
   "cell_type": "code",
   "execution_count": 2,
   "metadata": {},
   "outputs": [],
   "source": [
    "# Create two cvs test files, taken from an original FOFCT csv file but with only 1000 lines each.\n",
    "# Important: both files include the header.\n",
    "\n",
    "in_filename = './data/takei_mesc_DNA-tracing_1Mb_rep1.csv'\n",
    "in_file = open(in_filename, 'r')\n",
    "lines = in_file.readlines()\n",
    "in_file.close()\n",
    "\n",
    "out_filename = './data/csv_test_1.csv'\n",
    "out_file = open(out_filename, 'w')\n",
    "for line in lines[:1000]:\n",
    "    out_file.write(line)\n",
    "out_file.close()\n",
    "\n",
    "out_filename = './data/csv_test_2.csv'\n",
    "out_file = open(out_filename, 'w')\n",
    "for line in lines[:15]:\n",
    "    out_file.write(line)\n",
    "for line in lines[1000:2000]:\n",
    "    out_file.write(line)\n",
    "out_file.close()"
   ]
  },
  {
   "attachments": {},
   "cell_type": "markdown",
   "metadata": {},
   "source": [
    "First, I am going to read the data from one test file."
   ]
  },
  {
   "cell_type": "code",
   "execution_count": 4,
   "metadata": {},
   "outputs": [
    {
     "name": "stdout",
     "output_type": "stream",
     "text": [
      "Assembly mm10 found in alabtools/genomes. Using this.\n"
     ]
    },
    {
     "name": "stderr",
     "output_type": "stream",
     "text": [
      "chroms or lengths not given, reading from genomes info file.\n"
     ]
    }
   ],
   "source": [
    "if os.path.exists('ct_test1.ct'):\n",
    "    os.system('rm ct_test1.ct')  # remove the file if it exists\n",
    "# Reading the test csv file (1)\n",
    "ct = CtFile('ct_test1.ct', 'w')  # initialize the ct file\n",
    "ct.set_from_fofct('./data/csv_test_1.csv')  # read the FOFCT file"
   ]
  },
  {
   "attachments": {},
   "cell_type": "markdown",
   "metadata": {},
   "source": [
    "A CT file is very similar to an HSS one. It is an HDF5 file, and has a genome and an index objects as data.\n",
    "\n",
    "There is an important difference though. HDF5 files support only homogeneous arrays (i.e. hyperrectangules) as dataset. For Chromatin Tracing, the data is inherently heterogeneous: for example, the number of spots can change by copy/domain/cell. Here this issue is solved by max-padding: the dimensions are increased to match the maximum values, and the rest is set to NaN. This is applied to both coordinates and number of spots, and consequently there are two attributes (nspot_max and ncopy_max) that are used for max-padding only.\n",
    "\n",
    "CT attributes:\n",
    "\n",
    "    - ncell : number of cells\n",
    "    - ndomain : number of domains (in Index object)\n",
    "    - nspot_tot : total number of spots measured\n",
    "    - ntrace_tot : total number of chromatin traces identified\n",
    "    - nspot_max : maximum number of spots per copy/domain/cell\n",
    "    - ncopy_max : maximum number of copies per domain/cell\n",
    "\n",
    "CT datasets:\n",
    "\n",
    "    - cell_labels : np.array(ncell, dtype='str'), contains cellIDs\n",
    "    - coordinates : np.array(ncell, ndomain, ncopy_max, nspot_max, 3)\n",
    "    - nspot: np.array(ncell, ndomain, ncopy_max), number of spots per copy/domain/cell\n",
    "    - ncopy: np.array(ncell, ndomain), number of copies per domain/cell"
   ]
  },
  {
   "cell_type": "code",
   "execution_count": 5,
   "metadata": {},
   "outputs": [
    {
     "name": "stdout",
     "output_type": "stream",
     "text": [
      "197\n",
      "4\n",
      "985\n",
      "197\n",
      "6\n",
      "1\n",
      "(197,)\n",
      "(197, 4, 1, 6, 3)\n",
      "(197, 4, 1)\n",
      "(197, 4)\n",
      "[174.119  17.179   2.392]\n"
     ]
    }
   ],
   "source": [
    "print(ct.ncell)\n",
    "print(ct.ndomain)\n",
    "print(ct.nspot_tot)\n",
    "print(ct.ntrace_tot)\n",
    "print(ct.nspot_max)\n",
    "print(ct.ncopy_max)\n",
    "print(ct.cell_labels.shape)\n",
    "print(ct.coordinates.shape)\n",
    "print(ct.nspot.shape)\n",
    "print(ct.ncopy.shape)\n",
    "\n",
    "print(ct.coordinates[0, 0, 0, 0, :])"
   ]
  },
  {
   "attachments": {},
   "cell_type": "markdown",
   "metadata": {},
   "source": [
    "There is a merging feature. This is necessary when - like in the case of Takei's data - we have to merge two replicates.\n",
    "\n",
    "The code checks if there is overlap between the cellIDs, and if there is it requires tags to make them distinguishable."
   ]
  },
  {
   "cell_type": "code",
   "execution_count": 6,
   "metadata": {},
   "outputs": [
    {
     "name": "stdout",
     "output_type": "stream",
     "text": [
      "Assembly mm10 found in alabtools/genomes. Using this.\n"
     ]
    },
    {
     "name": "stderr",
     "output_type": "stream",
     "text": [
      "chroms or lengths not given, reading from genomes info file.\n"
     ]
    }
   ],
   "source": [
    "if os.path.exists('ct_test2.ct'):\n",
    "    os.system('rm ct_test2.ct')  # remove the file if it exists\n",
    "# Reading the test csv file (1)\n",
    "ct2 = CtFile('ct_test2.ct', 'w')\n",
    "ct2.set_from_fofct('./data/csv_test_1.csv')"
   ]
  },
  {
   "cell_type": "code",
   "execution_count": 16,
   "metadata": {},
   "outputs": [
    {
     "ename": "ValueError",
     "evalue": "There is an overlap in cell labels. Please provide tags to distinguish them.",
     "output_type": "error",
     "traceback": [
      "\u001b[0;31m---------------------------------------------------------------------------\u001b[0m",
      "\u001b[0;31mValueError\u001b[0m                                Traceback (most recent call last)",
      "\u001b[0;32m/tmp/ipykernel_740/4009151606.py\u001b[0m in \u001b[0;36m<module>\u001b[0;34m\u001b[0m\n\u001b[1;32m      2\u001b[0m \u001b[0;32mif\u001b[0m \u001b[0mos\u001b[0m\u001b[0;34m.\u001b[0m\u001b[0mpath\u001b[0m\u001b[0;34m.\u001b[0m\u001b[0mexists\u001b[0m\u001b[0;34m(\u001b[0m\u001b[0;34m'ct_test3.ct'\u001b[0m\u001b[0;34m)\u001b[0m\u001b[0;34m:\u001b[0m\u001b[0;34m\u001b[0m\u001b[0;34m\u001b[0m\u001b[0m\n\u001b[1;32m      3\u001b[0m     \u001b[0mos\u001b[0m\u001b[0;34m.\u001b[0m\u001b[0msystem\u001b[0m\u001b[0;34m(\u001b[0m\u001b[0;34m'rm ct_test3.ct'\u001b[0m\u001b[0;34m)\u001b[0m  \u001b[0;31m# remove the file if it exists\u001b[0m\u001b[0;34m\u001b[0m\u001b[0;34m\u001b[0m\u001b[0m\n\u001b[0;32m----> 4\u001b[0;31m \u001b[0mct3\u001b[0m \u001b[0;34m=\u001b[0m \u001b[0mct1\u001b[0m\u001b[0;34m.\u001b[0m\u001b[0mmerge\u001b[0m\u001b[0;34m(\u001b[0m\u001b[0mct2\u001b[0m\u001b[0;34m,\u001b[0m \u001b[0;34m'ct_test3.ct'\u001b[0m\u001b[0;34m)\u001b[0m  \u001b[0;31m# merge the two ct files\u001b[0m\u001b[0;34m\u001b[0m\u001b[0;34m\u001b[0m\u001b[0m\n\u001b[0m",
      "\u001b[0;32m/u/project/falber/fmusella/alabtools/alabtools/imaging.py\u001b[0m in \u001b[0;36mmerge\u001b[0;34m(self, other, new_name, tag1, tag2)\u001b[0m\n\u001b[1;32m    271\u001b[0m         \u001b[0;32mif\u001b[0m \u001b[0mlen\u001b[0m\u001b[0;34m(\u001b[0m\u001b[0mnp\u001b[0m\u001b[0;34m.\u001b[0m\u001b[0mintersect1d\u001b[0m\u001b[0;34m(\u001b[0m\u001b[0mself\u001b[0m\u001b[0;34m.\u001b[0m\u001b[0mcell_labels\u001b[0m\u001b[0;34m,\u001b[0m \u001b[0mother\u001b[0m\u001b[0;34m.\u001b[0m\u001b[0mcell_labels\u001b[0m\u001b[0;34m)\u001b[0m\u001b[0;34m)\u001b[0m \u001b[0;34m!=\u001b[0m \u001b[0;36m0\u001b[0m\u001b[0;31m \u001b[0m\u001b[0;31m\\\u001b[0m\u001b[0;34m\u001b[0m\u001b[0;34m\u001b[0m\u001b[0m\n\u001b[1;32m    272\u001b[0m             \u001b[0;32mand\u001b[0m \u001b[0mtag1\u001b[0m \u001b[0;32mis\u001b[0m \u001b[0;32mNone\u001b[0m \u001b[0;32mand\u001b[0m \u001b[0mtag2\u001b[0m \u001b[0;32mis\u001b[0m \u001b[0;32mNone\u001b[0m\u001b[0;34m:\u001b[0m\u001b[0;34m\u001b[0m\u001b[0;34m\u001b[0m\u001b[0m\n\u001b[0;32m--> 273\u001b[0;31m             \u001b[0;32mraise\u001b[0m \u001b[0mValueError\u001b[0m\u001b[0;34m(\u001b[0m\u001b[0;34m'There is an overlap in cell labels. Please provide tags to distinguish them.'\u001b[0m\u001b[0;34m)\u001b[0m\u001b[0;34m\u001b[0m\u001b[0;34m\u001b[0m\u001b[0m\n\u001b[0m\u001b[1;32m    274\u001b[0m \u001b[0;34m\u001b[0m\u001b[0m\n\u001b[1;32m    275\u001b[0m         \u001b[0mnew_ct\u001b[0m \u001b[0;34m=\u001b[0m \u001b[0mCtFile\u001b[0m\u001b[0;34m(\u001b[0m\u001b[0mnew_name\u001b[0m\u001b[0;34m,\u001b[0m \u001b[0mmode\u001b[0m\u001b[0;34m=\u001b[0m\u001b[0;34m'w'\u001b[0m\u001b[0;34m)\u001b[0m\u001b[0;34m\u001b[0m\u001b[0;34m\u001b[0m\u001b[0m\n",
      "\u001b[0;31mValueError\u001b[0m: There is an overlap in cell labels. Please provide tags to distinguish them."
     ]
    }
   ],
   "source": [
    "# Try merging the two ct files without tags\n",
    "if os.path.exists('ct_test3.ct'):\n",
    "    os.system('rm ct_test3.ct')  # remove the file if it exists\n",
    "ct3 = ct1.merge(ct2, 'ct_test3.ct')  # merge the two ct files"
   ]
  },
  {
   "cell_type": "code",
   "execution_count": 8,
   "metadata": {},
   "outputs": [],
   "source": [
    "# Merge with tags\n",
    "if os.path.exists('ct_test3.ct'):\n",
    "    os.system('rm ct_test3.ct')  # remove the file if it exists\n",
    "ct3 = ct.merge(ct2, 'ct_test3.ct', '_rep1', '_rep2')  # merge the two ct files"
   ]
  },
  {
   "cell_type": "code",
   "execution_count": 10,
   "metadata": {},
   "outputs": [
    {
     "name": "stdout",
     "output_type": "stream",
     "text": [
      "197 197 394\n"
     ]
    }
   ],
   "source": [
    "# The number of cells should be the sum of the two\n",
    "print(ct.ncell, ct2.ncell, ct3.ncell)"
   ]
  },
  {
   "attachments": {},
   "cell_type": "markdown",
   "metadata": {},
   "source": [
    "Now we can load the actual file and check that everything works."
   ]
  },
  {
   "cell_type": "code",
   "execution_count": 11,
   "metadata": {},
   "outputs": [
    {
     "name": "stdout",
     "output_type": "stream",
     "text": [
      "Assembly mm10 found in alabtools/genomes. Using this.\n"
     ]
    },
    {
     "name": "stderr",
     "output_type": "stream",
     "text": [
      "chroms or lengths not given, reading from genomes info file.\n"
     ]
    }
   ],
   "source": [
    "if os.path.exists('ct_takei_rep1.ct'):\n",
    "    os.system('rm ct_takei_rep1.ct')  # remove the file if it exists\n",
    "ct = CtFile('ct_takei_rep1.ct', 'w')\n",
    "ct.set_from_fofct('./data/takei_mesc_DNA-tracing_1Mb_rep1.csv')"
   ]
  },
  {
   "cell_type": "code",
   "execution_count": 12,
   "metadata": {},
   "outputs": [
    {
     "name": "stdout",
     "output_type": "stream",
     "text": [
      "Assembly mm10 found in alabtools/genomes. Using this.\n"
     ]
    },
    {
     "name": "stderr",
     "output_type": "stream",
     "text": [
      "chroms or lengths not given, reading from genomes info file.\n"
     ]
    }
   ],
   "source": [
    "if os.path.exists('ct_takei_rep2.ct'):\n",
    "    os.system('rm ct_takei_rep2.ct')  # remove the file if it exists\n",
    "ct2 = CtFile('ct_takei_rep2.ct', 'w')\n",
    "ct2.set_from_fofct('./data/takei_mesc_DNA-tracing_1Mb_rep2.csv')"
   ]
  },
  {
   "cell_type": "code",
   "execution_count": 13,
   "metadata": {},
   "outputs": [],
   "source": [
    "ct3 = ct.merge(ct2, 'ct_takei_comb.ct', '_rep1', '_rep2')  # merge the two ct files"
   ]
  },
  {
   "cell_type": "code",
   "execution_count": 14,
   "metadata": {},
   "outputs": [
    {
     "name": "stdout",
     "output_type": "stream",
     "text": [
      "446\n",
      "2460\n",
      "1795228\n",
      "8919\n",
      "15\n",
      "1\n",
      "(446,)\n",
      "(446, 2460, 1, 15, 3)\n",
      "(446, 2460, 1)\n",
      "(446, 2460)\n"
     ]
    }
   ],
   "source": [
    "print(ct3.ncell)\n",
    "print(ct3.ndomain)\n",
    "print(ct3.nspot_tot)\n",
    "print(ct3.ntrace_tot)\n",
    "print(ct3.nspot_max)\n",
    "print(ct3.ncopy_max)\n",
    "print(ct3.cell_labels.shape)\n",
    "print(ct3.coordinates.shape)\n",
    "print(ct3.nspot.shape)\n",
    "print(ct3.ncopy.shape)\n"
   ]
  },
  {
   "cell_type": "code",
   "execution_count": 24,
   "metadata": {},
   "outputs": [
    {
     "name": "stdout",
     "output_type": "stream",
     "text": [
      "True\n"
     ]
    }
   ],
   "source": [
    "# Check that the Index object is correctly created from the FOFCT file\n",
    "\n",
    "i = Index('./domains_takei.bed', ct3.genome)\n",
    "\n",
    "print(i == ct3.index)"
   ]
  },
  {
   "attachments": {},
   "cell_type": "markdown",
   "metadata": {},
   "source": [
    "Try other datasets. I just want to check that they are imported correctly, or that the appropriate error message is shown."
   ]
  },
  {
   "cell_type": "code",
   "execution_count": 7,
   "metadata": {},
   "outputs": [
    {
     "name": "stdout",
     "output_type": "stream",
     "text": [
      "Assembly mm10 found in alabtools/genomes. Using this.\n"
     ]
    },
    {
     "name": "stderr",
     "output_type": "stream",
     "text": [
      "chroms or lengths not given, reading from genomes info file.\n"
     ]
    },
    {
     "name": "stdout",
     "output_type": "stream",
     "text": [
      "(201, 1200, 4, 6, 3)\n"
     ]
    }
   ],
   "source": [
    "# Data from Takei (25kb)\n",
    "\n",
    "if os.path.exists('ct_takei25_rep1.ct'):\n",
    "    os.system('rm ct_takei25_rep1.ct')  # remove the file if it exists\n",
    "ct = CtFile('ct_takei25_rep1.ct', 'w')\n",
    "ct.set_from_fofct('./data/takei_mesc_DNA-tracing_25kb_rep1.csv')\n",
    "\n",
    "print(ct.coordinates.shape)"
   ]
  },
  {
   "attachments": {},
   "cell_type": "markdown",
   "metadata": {},
   "source": [
    "The shape of the coordinates array is (201, 1200, 4, 6, 3).\n",
    "\n",
    "I was surprised to see that ncopy_max = 4, because Takei assumes there are only 2 copies.\n",
    "\n",
    "We can check the cellID and the chromosome of the domains with 4 copies (see below).\n",
    "\n",
    "These domains are in cell 0_44 chr11 and 4_11 chr18.\n",
    "I checked on the cvs file that these spots are indeed traced in 4 copies (see lines 62780 and 276439).\n",
    "I also checked that some spot have a -1 trace (see line 1527, traceID=0_2_1_-1).\n",
    "This is likely a mistake, but I don't think we can code to account for this."
   ]
  },
  {
   "cell_type": "code",
   "execution_count": 11,
   "metadata": {},
   "outputs": [
    {
     "name": "stdout",
     "output_type": "stream",
     "text": [
      "(array([ 38,  38,  38,  38,  38,  75,  75, 172, 172, 172, 172, 172, 172]), array([ 827,  830,  832,  844,  845,  824,  992,  987,  988, 1003, 1038,\n",
      "       1042, 1199]))\n",
      "38 827 0_44 chr11\n",
      "38 830 0_44 chr11\n",
      "38 832 0_44 chr11\n",
      "38 844 0_44 chr11\n",
      "38 845 0_44 chr11\n",
      "75 824 1_36 chr11\n",
      "75 992 1_36 chr18\n",
      "172 987 4_11 chr18\n",
      "172 988 4_11 chr18\n",
      "172 1003 4_11 chr18\n",
      "172 1038 4_11 chr18\n",
      "172 1042 4_11 chr18\n",
      "172 1199 4_11 chr18\n"
     ]
    }
   ],
   "source": [
    "print(np.where(ct.ncopy == 4))\n",
    "for cell_idx, dom_idx in zip(*np.where(ct.ncopy == 4)):\n",
    "    print(cell_idx, dom_idx, ct.cell_labels[cell_idx], ct.index.chromstr[dom_idx])"
   ]
  },
  {
   "cell_type": "code",
   "execution_count": 15,
   "metadata": {},
   "outputs": [
    {
     "name": "stdout",
     "output_type": "stream",
     "text": [
      "Assembly grcm38 found in alabtools/genomes. Using this.\n"
     ]
    },
    {
     "name": "stderr",
     "output_type": "stream",
     "text": [
      "chroms or lengths not given, reading from genomes info file.\n"
     ]
    },
    {
     "name": "stdout",
     "output_type": "stream",
     "text": [
      "(752, 42, 2, 1, 3)\n"
     ]
    }
   ],
   "source": [
    "# Data from Bing Ren's lab\n",
    "\n",
    "if os.path.exists('ct_bingren.ct'):\n",
    "    os.system('rm ct_bingren.ct')  # remove the file if it exists\n",
    "ct = CtFile('ct_bingren.ct', 'w')\n",
    "ct.set_from_fofct('./data/bingren_4DNFIKPGMZJ8.csv')\n",
    "\n",
    "print(ct.coordinates.shape)"
   ]
  },
  {
   "cell_type": "code",
   "execution_count": 16,
   "metadata": {},
   "outputs": [
    {
     "ename": "ValueError",
     "evalue": "Assembly not found in alabtools/genomes. Need to include it.",
     "output_type": "error",
     "traceback": [
      "\u001b[0;31m---------------------------------------------------------------------------\u001b[0m",
      "\u001b[0;31mValueError\u001b[0m                                Traceback (most recent call last)",
      "\u001b[0;32m/tmp/ipykernel_2612/2673256331.py\u001b[0m in \u001b[0;36m<module>\u001b[0;34m\u001b[0m\n\u001b[1;32m      3\u001b[0m     \u001b[0mos\u001b[0m\u001b[0;34m.\u001b[0m\u001b[0msystem\u001b[0m\u001b[0;34m(\u001b[0m\u001b[0;34m'rm ct_boettiger.ct'\u001b[0m\u001b[0;34m)\u001b[0m  \u001b[0;31m# remove the file if it exists\u001b[0m\u001b[0;34m\u001b[0m\u001b[0;34m\u001b[0m\u001b[0m\n\u001b[1;32m      4\u001b[0m \u001b[0mct\u001b[0m \u001b[0;34m=\u001b[0m \u001b[0mCtFile\u001b[0m\u001b[0;34m(\u001b[0m\u001b[0;34m'ct_boettiger.ct'\u001b[0m\u001b[0;34m,\u001b[0m \u001b[0;34m'w'\u001b[0m\u001b[0;34m)\u001b[0m\u001b[0;34m\u001b[0m\u001b[0;34m\u001b[0m\u001b[0m\n\u001b[0;32m----> 5\u001b[0;31m \u001b[0mct\u001b[0m\u001b[0;34m.\u001b[0m\u001b[0mset_from_fofct\u001b[0m\u001b[0;34m(\u001b[0m\u001b[0;34m'./data/boettiger_4DNFI5WLD5KM.csv'\u001b[0m\u001b[0;34m)\u001b[0m\u001b[0;34m\u001b[0m\u001b[0;34m\u001b[0m\u001b[0m\n\u001b[0m\u001b[1;32m      6\u001b[0m \u001b[0;34m\u001b[0m\u001b[0m\n\u001b[1;32m      7\u001b[0m \u001b[0mprint\u001b[0m\u001b[0;34m(\u001b[0m\u001b[0mct\u001b[0m\u001b[0;34m.\u001b[0m\u001b[0mcoordinates\u001b[0m\u001b[0;34m.\u001b[0m\u001b[0mshape\u001b[0m\u001b[0;34m)\u001b[0m\u001b[0;34m\u001b[0m\u001b[0;34m\u001b[0m\u001b[0m\n",
      "\u001b[0;32m/u/project/falber/fmusella/alabtools/alabtools/imaging.py\u001b[0m in \u001b[0;36mset_from_fofct\u001b[0;34m(self, fofct_file)\u001b[0m\n\u001b[1;32m    344\u001b[0m             \u001b[0massembly_file\u001b[0m \u001b[0;34m=\u001b[0m \u001b[0mos\u001b[0m\u001b[0;34m.\u001b[0m\u001b[0mpath\u001b[0m\u001b[0;34m.\u001b[0m\u001b[0mjoin\u001b[0m\u001b[0;34m(\u001b[0m\u001b[0mos\u001b[0m\u001b[0;34m.\u001b[0m\u001b[0mpath\u001b[0m\u001b[0;34m.\u001b[0m\u001b[0mdirname\u001b[0m\u001b[0;34m(\u001b[0m\u001b[0mos\u001b[0m\u001b[0;34m.\u001b[0m\u001b[0mpath\u001b[0m\u001b[0;34m.\u001b[0m\u001b[0mabspath\u001b[0m\u001b[0;34m(\u001b[0m\u001b[0m__file__\u001b[0m\u001b[0;34m)\u001b[0m\u001b[0;34m)\u001b[0m\u001b[0;34m,\u001b[0m \u001b[0;34m'genomes/'\u001b[0m \u001b[0;34m+\u001b[0m \u001b[0ma\u001b[0m \u001b[0;34m+\u001b[0m \u001b[0;34m'.info'\u001b[0m\u001b[0;34m)\u001b[0m\u001b[0;34m\u001b[0m\u001b[0;34m\u001b[0m\u001b[0m\n\u001b[1;32m    345\u001b[0m             \u001b[0;32mif\u001b[0m \u001b[0mos\u001b[0m\u001b[0;34m.\u001b[0m\u001b[0mpath\u001b[0m\u001b[0;34m.\u001b[0m\u001b[0misfile\u001b[0m\u001b[0;34m(\u001b[0m\u001b[0massembly_file\u001b[0m\u001b[0;34m)\u001b[0m\u001b[0;34m:\u001b[0m\u001b[0;34m\u001b[0m\u001b[0;34m\u001b[0m\u001b[0m\n\u001b[0;32m--> 346\u001b[0;31m                 \u001b[0msys\u001b[0m\u001b[0;34m.\u001b[0m\u001b[0mstdout\u001b[0m\u001b[0;34m.\u001b[0m\u001b[0mwrite\u001b[0m\u001b[0;34m(\u001b[0m\u001b[0;34m'Assembly {} found in alabtools/genomes. Using this.\\n'\u001b[0m\u001b[0;34m.\u001b[0m\u001b[0mformat\u001b[0m\u001b[0;34m(\u001b[0m\u001b[0ma\u001b[0m\u001b[0;34m)\u001b[0m\u001b[0;34m)\u001b[0m\u001b[0;34m\u001b[0m\u001b[0;34m\u001b[0m\u001b[0m\n\u001b[0m\u001b[1;32m    347\u001b[0m                 \u001b[0;31m# Note: if some chromosomes in np.unique(chrstr) are not in the assembly file, they will be ignored.\u001b[0m\u001b[0;34m\u001b[0m\u001b[0;34m\u001b[0m\u001b[0;34m\u001b[0m\u001b[0m\n\u001b[1;32m    348\u001b[0m                 \u001b[0mgenome\u001b[0m \u001b[0;34m=\u001b[0m \u001b[0mGenome\u001b[0m\u001b[0;34m(\u001b[0m\u001b[0ma\u001b[0m\u001b[0;34m,\u001b[0m \u001b[0musechr\u001b[0m\u001b[0;34m=\u001b[0m\u001b[0mnp\u001b[0m\u001b[0;34m.\u001b[0m\u001b[0munique\u001b[0m\u001b[0;34m(\u001b[0m\u001b[0mchrstr\u001b[0m\u001b[0;34m)\u001b[0m\u001b[0;34m)\u001b[0m\u001b[0;34m\u001b[0m\u001b[0;34m\u001b[0m\u001b[0m\n",
      "\u001b[0;31mValueError\u001b[0m: Assembly not found in alabtools/genomes. Need to include it."
     ]
    }
   ],
   "source": [
    "# Data from Boettiger's lab\n",
    "\n",
    "# This dataset is for Drosophila melanogaster (dm6), which is not in alabtools/genomes. So we raise an error.\n",
    "\n",
    "if os.path.exists('ct_boettiger.ct'):\n",
    "    os.system('rm ct_boettiger.ct')  # remove the file if it exists\n",
    "ct = CtFile('ct_boettiger.ct', 'w')\n",
    "ct.set_from_fofct('./data/boettiger_4DNFI5WLD5KM.csv')\n",
    "\n",
    "print(ct.coordinates.shape)"
   ]
  },
  {
   "cell_type": "code",
   "execution_count": 2,
   "metadata": {},
   "outputs": [
    {
     "name": "stdout",
     "output_type": "stream",
     "text": [
      "Assembly not found in FOF-CT file. Using the one provided.\n",
      "Assembly hg38 found in alabtools/genomes. Using this.\n"
     ]
    },
    {
     "name": "stderr",
     "output_type": "stream",
     "text": [
      "chroms or lengths not given, reading from genomes info file.\n"
     ]
    },
    {
     "ename": "KeyboardInterrupt",
     "evalue": "",
     "output_type": "error",
     "traceback": [
      "\u001b[0;31m---------------------------------------------------------------------------\u001b[0m",
      "\u001b[0;31mKeyboardInterrupt\u001b[0m                         Traceback (most recent call last)",
      "\u001b[0;32m/tmp/ipykernel_6537/4007248886.py\u001b[0m in \u001b[0;36m<module>\u001b[0;34m\u001b[0m\n\u001b[1;32m      9\u001b[0m     \u001b[0mos\u001b[0m\u001b[0;34m.\u001b[0m\u001b[0msystem\u001b[0m\u001b[0;34m(\u001b[0m\u001b[0;34m'rm ct_boettiger.ct'\u001b[0m\u001b[0;34m)\u001b[0m  \u001b[0;31m# remove the file if it exists\u001b[0m\u001b[0;34m\u001b[0m\u001b[0;34m\u001b[0m\u001b[0m\n\u001b[1;32m     10\u001b[0m \u001b[0mct\u001b[0m \u001b[0;34m=\u001b[0m \u001b[0mCtFile\u001b[0m\u001b[0;34m(\u001b[0m\u001b[0;34m'ct_boettiger.ct'\u001b[0m\u001b[0;34m,\u001b[0m \u001b[0;34m'w'\u001b[0m\u001b[0;34m)\u001b[0m\u001b[0;34m\u001b[0m\u001b[0;34m\u001b[0m\u001b[0m\n\u001b[0;32m---> 11\u001b[0;31m \u001b[0mct\u001b[0m\u001b[0;34m.\u001b[0m\u001b[0mset_from_fofct\u001b[0m\u001b[0;34m(\u001b[0m\u001b[0;34m'./data/boettiger_4DNFIHZRN68I.csv'\u001b[0m\u001b[0;34m,\u001b[0m \u001b[0;34m'hg38'\u001b[0m\u001b[0;34m)\u001b[0m\u001b[0;34m\u001b[0m\u001b[0;34m\u001b[0m\u001b[0m\n\u001b[0m\u001b[1;32m     12\u001b[0m \u001b[0;34m\u001b[0m\u001b[0m\n\u001b[1;32m     13\u001b[0m \u001b[0mprint\u001b[0m\u001b[0;34m(\u001b[0m\u001b[0mct\u001b[0m\u001b[0;34m.\u001b[0m\u001b[0mcoordinates\u001b[0m\u001b[0;34m.\u001b[0m\u001b[0mshape\u001b[0m\u001b[0;34m)\u001b[0m\u001b[0;34m\u001b[0m\u001b[0;34m\u001b[0m\u001b[0m\n",
      "\u001b[0;32m/u/project/falber/fmusella/alabtools/alabtools/imaging.py\u001b[0m in \u001b[0;36mset_from_fofct\u001b[0;34m(self, fofct_file, in_assembly)\u001b[0m\n\u001b[1;32m    360\u001b[0m         \u001b[0;31m# SET OTHER ATTRIBUTES AND DATA (COORD, NSPOT, NCOPY)\u001b[0m\u001b[0;34m\u001b[0m\u001b[0;34m\u001b[0m\u001b[0;34m\u001b[0m\u001b[0m\n\u001b[1;32m    361\u001b[0m         \u001b[0mncell\u001b[0m\u001b[0;34m,\u001b[0m \u001b[0mnspot_tot\u001b[0m\u001b[0;34m,\u001b[0m \u001b[0mntrace_tot\u001b[0m\u001b[0;34m,\u001b[0m \u001b[0mnspot_max\u001b[0m\u001b[0;34m,\u001b[0m \u001b[0mncopy_max\u001b[0m\u001b[0;34m,\u001b[0m\u001b[0;31m\\\u001b[0m\u001b[0;34m\u001b[0m\u001b[0;34m\u001b[0m\u001b[0m\n\u001b[0;32m--> 362\u001b[0;31m             \u001b[0mcell_labels\u001b[0m\u001b[0;34m,\u001b[0m \u001b[0mcoord\u001b[0m\u001b[0;34m,\u001b[0m \u001b[0mnspot\u001b[0m\u001b[0;34m,\u001b[0m \u001b[0mncopy\u001b[0m \u001b[0;34m=\u001b[0m \u001b[0mself\u001b[0m\u001b[0;34m.\u001b[0m\u001b[0m_process_data_from_fofct\u001b[0m\u001b[0;34m(\u001b[0m\u001b[0mdata\u001b[0m\u001b[0;34m,\u001b[0m \u001b[0mcol_names\u001b[0m\u001b[0;34m)\u001b[0m\u001b[0;34m\u001b[0m\u001b[0;34m\u001b[0m\u001b[0m\n\u001b[0m\u001b[1;32m    363\u001b[0m         \u001b[0mself\u001b[0m\u001b[0;34m.\u001b[0m\u001b[0mset_ncell\u001b[0m\u001b[0;34m(\u001b[0m\u001b[0mncell\u001b[0m\u001b[0;34m)\u001b[0m\u001b[0;34m\u001b[0m\u001b[0;34m\u001b[0m\u001b[0m\n\u001b[1;32m    364\u001b[0m         \u001b[0mself\u001b[0m\u001b[0;34m.\u001b[0m\u001b[0mset_nspot_tot\u001b[0m\u001b[0;34m(\u001b[0m\u001b[0mnspot_tot\u001b[0m\u001b[0;34m)\u001b[0m\u001b[0;34m\u001b[0m\u001b[0;34m\u001b[0m\u001b[0m\n",
      "\u001b[0;32m/u/project/falber/fmusella/alabtools/alabtools/imaging.py\u001b[0m in \u001b[0;36m_process_data_from_fofct\u001b[0;34m(self, data, col_names)\u001b[0m\n\u001b[1;32m    432\u001b[0m                 \u001b[0my_dom\u001b[0m \u001b[0;34m=\u001b[0m \u001b[0my_cell\u001b[0m\u001b[0;34m[\u001b[0m\u001b[0;34m(\u001b[0m\u001b[0mchrstr_cell\u001b[0m \u001b[0;34m==\u001b[0m \u001b[0mdom\u001b[0m\u001b[0;34m[\u001b[0m\u001b[0;36m0\u001b[0m\u001b[0;34m]\u001b[0m\u001b[0;34m)\u001b[0m \u001b[0;34m&\u001b[0m \u001b[0;34m(\u001b[0m\u001b[0mstart_cell\u001b[0m \u001b[0;34m==\u001b[0m \u001b[0mdom\u001b[0m\u001b[0;34m[\u001b[0m\u001b[0;36m1\u001b[0m\u001b[0;34m]\u001b[0m\u001b[0;34m)\u001b[0m \u001b[0;34m&\u001b[0m \u001b[0;34m(\u001b[0m\u001b[0mend_cell\u001b[0m \u001b[0;34m==\u001b[0m \u001b[0mdom\u001b[0m\u001b[0;34m[\u001b[0m\u001b[0;36m2\u001b[0m\u001b[0;34m]\u001b[0m\u001b[0;34m)\u001b[0m\u001b[0;34m]\u001b[0m\u001b[0;34m\u001b[0m\u001b[0;34m\u001b[0m\u001b[0m\n\u001b[1;32m    433\u001b[0m                 \u001b[0mz_dom\u001b[0m \u001b[0;34m=\u001b[0m \u001b[0mz_cell\u001b[0m\u001b[0;34m[\u001b[0m\u001b[0;34m(\u001b[0m\u001b[0mchrstr_cell\u001b[0m \u001b[0;34m==\u001b[0m \u001b[0mdom\u001b[0m\u001b[0;34m[\u001b[0m\u001b[0;36m0\u001b[0m\u001b[0;34m]\u001b[0m\u001b[0;34m)\u001b[0m \u001b[0;34m&\u001b[0m \u001b[0;34m(\u001b[0m\u001b[0mstart_cell\u001b[0m \u001b[0;34m==\u001b[0m \u001b[0mdom\u001b[0m\u001b[0;34m[\u001b[0m\u001b[0;36m1\u001b[0m\u001b[0;34m]\u001b[0m\u001b[0;34m)\u001b[0m \u001b[0;34m&\u001b[0m \u001b[0;34m(\u001b[0m\u001b[0mend_cell\u001b[0m \u001b[0;34m==\u001b[0m \u001b[0mdom\u001b[0m\u001b[0;34m[\u001b[0m\u001b[0;36m2\u001b[0m\u001b[0;34m]\u001b[0m\u001b[0;34m)\u001b[0m\u001b[0;34m]\u001b[0m\u001b[0;34m\u001b[0m\u001b[0;34m\u001b[0m\u001b[0m\n\u001b[0;32m--> 434\u001b[0;31m                 \u001b[0mtraceID_dom\u001b[0m \u001b[0;34m=\u001b[0m \u001b[0mtraceID_cell\u001b[0m\u001b[0;34m[\u001b[0m\u001b[0;34m(\u001b[0m\u001b[0mchrstr_cell\u001b[0m \u001b[0;34m==\u001b[0m \u001b[0mdom\u001b[0m\u001b[0;34m[\u001b[0m\u001b[0;36m0\u001b[0m\u001b[0;34m]\u001b[0m\u001b[0;34m)\u001b[0m \u001b[0;34m&\u001b[0m \u001b[0;34m(\u001b[0m\u001b[0mstart_cell\u001b[0m \u001b[0;34m==\u001b[0m \u001b[0mdom\u001b[0m\u001b[0;34m[\u001b[0m\u001b[0;36m1\u001b[0m\u001b[0;34m]\u001b[0m\u001b[0;34m)\u001b[0m \u001b[0;34m&\u001b[0m \u001b[0;34m(\u001b[0m\u001b[0mend_cell\u001b[0m \u001b[0;34m==\u001b[0m \u001b[0mdom\u001b[0m\u001b[0;34m[\u001b[0m\u001b[0;36m2\u001b[0m\u001b[0;34m]\u001b[0m\u001b[0;34m)\u001b[0m\u001b[0;34m]\u001b[0m\u001b[0;34m\u001b[0m\u001b[0;34m\u001b[0m\u001b[0m\n\u001b[0m\u001b[1;32m    435\u001b[0m                 \u001b[0mcoord_dom\u001b[0m \u001b[0;34m=\u001b[0m \u001b[0;34m[\u001b[0m\u001b[0;34m]\u001b[0m  \u001b[0;31m# coordinates for a domain in a cell\u001b[0m\u001b[0;34m\u001b[0m\u001b[0;34m\u001b[0m\u001b[0m\n\u001b[1;32m    436\u001b[0m                 \u001b[0mnspot_dom\u001b[0m \u001b[0;34m=\u001b[0m \u001b[0;34m[\u001b[0m\u001b[0;34m]\u001b[0m  \u001b[0;31m# number of spots for a domain in a cell\u001b[0m\u001b[0;34m\u001b[0m\u001b[0;34m\u001b[0m\u001b[0m\n",
      "\u001b[0;31mKeyboardInterrupt\u001b[0m: "
     ]
    }
   ],
   "source": [
    "# Another dataset from Boettiger's lab, this time for human (hg38)\n",
    "\n",
    "# The dataset doesn't have a proper header, but it's still imported if we specify the genome\n",
    "\n",
    "# Furthermore, the dataset doesn't have a cellID column: that's because only one chromosome per cell\n",
    "#   is imaged, so the cellID is redundant.\n",
    "\n",
    "if os.path.exists('ct_boettiger.ct'):\n",
    "    os.system('rm ct_boettiger.ct')  # remove the file if it exists\n",
    "ct = CtFile('ct_boettiger.ct', 'w')\n",
    "ct.set_from_fofct('./data/boettiger_4DNFIHZRN68I.csv', 'hg38')\n",
    "\n",
    "print(ct.coordinates.shape)"
   ]
  },
  {
   "cell_type": "code",
   "execution_count": 3,
   "metadata": {},
   "outputs": [
    {
     "name": "stdout",
     "output_type": "stream",
     "text": [
      "Assembly grch38 found in alabtools/genomes. Using this.\n"
     ]
    },
    {
     "name": "stderr",
     "output_type": "stream",
     "text": [
      "chroms or lengths not given, reading from genomes info file.\n",
      "/u/project/falber/fmusella/alabtools/alabtools/imaging.py:401: UserWarning: Cell_ID not found in FOF-CT file. Assuming Cell_ID = Trace_ID.\n",
      "  warnings.warn('Cell_ID not found in FOF-CT file. Assuming Cell_ID = Trace_ID.', UserWarning)\n"
     ]
    },
    {
     "name": "stdout",
     "output_type": "stream",
     "text": [
      "(1038, 28, 1, 1, 3)\n"
     ]
    }
   ],
   "source": [
    "# Dataset from Wang's lab\n",
    "\n",
    "# Here as well there isn't a cellID column\n",
    "\n",
    "if os.path.exists('ct_wang.ct'):\n",
    "    os.system('rm ct_wang.ct')  # remove the file if it exists\n",
    "ct = CtFile('ct_wang.ct', 'w')\n",
    "ct.set_from_fofct('./data/wang_4DNFI7PBQK6G.csv')\n",
    "\n",
    "print(ct.coordinates.shape)"
   ]
  },
  {
   "cell_type": "code",
   "execution_count": null,
   "metadata": {},
   "outputs": [],
   "source": []
  }
 ],
 "metadata": {
  "kernelspec": {
   "display_name": "base",
   "language": "python",
   "name": "python3"
  },
  "language_info": {
   "codemirror_mode": {
    "name": "ipython",
    "version": 3
   },
   "file_extension": ".py",
   "mimetype": "text/x-python",
   "name": "python",
   "nbconvert_exporter": "python",
   "pygments_lexer": "ipython3",
   "version": "3.7.3"
  },
  "orig_nbformat": 4
 },
 "nbformat": 4,
 "nbformat_minor": 2
}
