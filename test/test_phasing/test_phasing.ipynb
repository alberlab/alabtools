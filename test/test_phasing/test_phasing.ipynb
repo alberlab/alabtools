{
 "cells": [
  {
   "cell_type": "code",
   "execution_count": 1,
   "metadata": {},
   "outputs": [],
   "source": [
    "import numpy as np\n",
    "from alabtools.phasing import TakeiPhaser\n",
    "from alabtools.imaging import CtFile"
   ]
  },
  {
   "cell_type": "code",
   "execution_count": 11,
   "metadata": {},
   "outputs": [
    {
     "name": "stdout",
     "output_type": "stream",
     "text": [
      "(201, 32, 1, 9, 3)\n"
     ]
    }
   ],
   "source": [
    "ct = CtFile('ct_test.ct')  # load the ct file\n",
    "print(ct.coordinates.shape)"
   ]
  },
  {
   "cell_type": "code",
   "execution_count": 12,
   "metadata": {},
   "outputs": [
    {
     "name": "stdout",
     "output_type": "stream",
     "text": [
      "Using a <class 'alabtools.parallel.parallel_controller.SerialController'> controller.\n"
     ]
    }
   ],
   "source": [
    "controller_config = {'parallel': {'controller': 'serial'}}\n",
    "phaser = TakeiPhaser(ct, controller_config, ncopy=2)"
   ]
  },
  {
   "cell_type": "code",
   "execution_count": 13,
   "metadata": {},
   "outputs": [
    {
     "name": "stderr",
     "output_type": "stream",
     "text": [
      "(SERIAL): 100%|██████████| 201/201 [00:02<00:00, 78.89it/s] \n"
     ]
    }
   ],
   "source": [
    "phaser.phasing()"
   ]
  },
  {
   "cell_type": "code",
   "execution_count": 6,
   "metadata": {},
   "outputs": [
    {
     "data": {
      "text/plain": [
       "array([[[2., 0., 0., ..., 0., 0., 0.],\n",
       "        [1., 0., 0., ..., 0., 0., 0.],\n",
       "        [1., 2., 1., ..., 0., 0., 0.],\n",
       "        ...,\n",
       "        [0., 0., 0., ..., 0., 0., 0.],\n",
       "        [2., 1., 0., ..., 0., 0., 0.],\n",
       "        [1., 2., 0., ..., 0., 0., 0.]],\n",
       "\n",
       "       [[1., 0., 0., ..., 0., 0., 0.],\n",
       "        [1., 2., 0., ..., 0., 0., 0.],\n",
       "        [2., 1., 0., ..., 0., 0., 0.],\n",
       "        ...,\n",
       "        [0., 0., 0., ..., 0., 0., 0.],\n",
       "        [1., 2., 1., ..., 0., 0., 0.],\n",
       "        [1., 2., 0., ..., 0., 0., 0.]],\n",
       "\n",
       "       [[2., 0., 0., ..., 0., 0., 0.],\n",
       "        [1., 0., 0., ..., 0., 0., 0.],\n",
       "        [1., 2., 0., ..., 0., 0., 0.],\n",
       "        ...,\n",
       "        [0., 0., 0., ..., 0., 0., 0.],\n",
       "        [1., 0., 0., ..., 0., 0., 0.],\n",
       "        [2., 0., 0., ..., 0., 0., 0.]],\n",
       "\n",
       "       ...,\n",
       "\n",
       "       [[1., 0., 0., ..., 0., 0., 0.],\n",
       "        [2., 1., 0., ..., 0., 0., 0.],\n",
       "        [1., 2., 0., ..., 0., 0., 0.],\n",
       "        ...,\n",
       "        [2., 0., 0., ..., 0., 0., 0.],\n",
       "        [0., 0., 0., ..., 0., 0., 0.],\n",
       "        [0., 0., 0., ..., 0., 0., 0.]],\n",
       "\n",
       "       [[2., 1., 1., ..., 0., 0., 0.],\n",
       "        [1., 2., 2., ..., 0., 0., 0.],\n",
       "        [1., 0., 0., ..., 0., 0., 0.],\n",
       "        ...,\n",
       "        [2., 0., 0., ..., 0., 0., 0.],\n",
       "        [1., 0., 0., ..., 0., 0., 0.],\n",
       "        [0., 0., 0., ..., 0., 0., 0.]],\n",
       "\n",
       "       [[1., 1., 0., ..., 0., 0., 0.],\n",
       "        [1., 0., 0., ..., 0., 0., 0.],\n",
       "        [0., 0., 0., ..., 0., 0., 0.],\n",
       "        ...,\n",
       "        [1., 1., 0., ..., 0., 0., 0.],\n",
       "        [0., 0., 0., ..., 0., 0., 0.],\n",
       "        [0., 0., 0., ..., 0., 0., 0.]]])"
      ]
     },
     "execution_count": 6,
     "metadata": {},
     "output_type": "execute_result"
    }
   ],
   "source": [
    "phaser.phase"
   ]
  },
  {
   "cell_type": "code",
   "execution_count": 7,
   "metadata": {},
   "outputs": [
    {
     "name": "stdout",
     "output_type": "stream",
     "text": [
      "[2. 0. 0. 0. 0. 0. 0. 0. 0.]\n",
      "[[1. 2. 1. 1. 1. 1. 2. 1. 2.]]\n"
     ]
    }
   ],
   "source": [
    "# print indices where ct.nspot is maximum\n",
    "idx = np.where(ct.nspot == ct.nspot_max)  # find the maximum\n",
    "print(phaser.phase[0, 0])\n",
    "print(phaser.phase[idx[0], idx[1]])"
   ]
  },
  {
   "attachments": {},
   "cell_type": "markdown",
   "metadata": {},
   "source": [
    "I can create a phs array (ncell, ndomains) fill it with these cell/chr values.\n",
    "\n",
    "Then I can just select the two copies as [phs == 1] and [phs == 2] and create a new ct file with the phases separated.\n",
    "\n",
    "I probably have to find the ncopy_max and nspot_max in a for loop and fix the new ct file."
   ]
  },
  {
   "cell_type": "code",
   "execution_count": 24,
   "metadata": {},
   "outputs": [
    {
     "name": "stdout",
     "output_type": "stream",
     "text": [
      "(6, 21, 4)\n"
     ]
    }
   ],
   "source": [
    "ncell = 6\n",
    "ndomain = 21\n",
    "nspot_max = 4\n",
    "# create a random numpy boolean array of shape (ncell, ndomain, nspot_max)\n",
    "mask = np.random.randint(2, size=(ncell, ndomain, nspot_max), dtype=bool)\n",
    "print(mask.shape)"
   ]
  },
  {
   "cell_type": "code",
   "execution_count": 25,
   "metadata": {},
   "outputs": [
    {
     "name": "stdout",
     "output_type": "stream",
     "text": [
      "(6, 21, 4) (6, 21, 1, 4)\n"
     ]
    }
   ],
   "source": [
    "mask_expanded = np.expand_dims(mask, axis=2)\n",
    "print(mask.shape, mask_expanded.shape)"
   ]
  },
  {
   "cell_type": "code",
   "execution_count": 26,
   "metadata": {},
   "outputs": [
    {
     "name": "stdout",
     "output_type": "stream",
     "text": [
      "True\n"
     ]
    }
   ],
   "source": [
    "# check that mask_expanded is the same as mask\n",
    "print(np.array_equal(mask[:, :, :], mask_expanded[:, :, 0, :]))"
   ]
  },
  {
   "cell_type": "code",
   "execution_count": 27,
   "metadata": {},
   "outputs": [
    {
     "name": "stdout",
     "output_type": "stream",
     "text": [
      "(6, 21, 1, 4, 3)\n"
     ]
    }
   ],
   "source": [
    "# include an additional axis of length 3 at the end,\n",
    "# thus from shape (6, 21, 1, 4) to (6, 21, 1, 4, 3)\n",
    "mask_expanded = np.expand_dims(mask_expanded, axis=4)\n",
    "mask_expanded = np.repeat(mask_expanded, repeats=3, axis=4)\n",
    "print(mask_expanded.shape)"
   ]
  },
  {
   "cell_type": "code",
   "execution_count": 28,
   "metadata": {},
   "outputs": [
    {
     "name": "stdout",
     "output_type": "stream",
     "text": [
      "True\n",
      "True\n",
      "True\n"
     ]
    }
   ],
   "source": [
    "# check that mask_expanded is the same as mask\n",
    "for i in range(3):\n",
    "    print(np.array_equal(mask[:, :, :], mask_expanded[:, :, 0, :, i]))"
   ]
  },
  {
   "cell_type": "code",
   "execution_count": 50,
   "metadata": {},
   "outputs": [
    {
     "name": "stdout",
     "output_type": "stream",
     "text": [
      "[3 3 0 3 4 4 0 3 1 1] [0 1 3 4] 3\n",
      "[2 1 3 2 1 0 4 3 3 2] [0 1 2 3 4] 4\n",
      "[3 0 2 0 0 2 2 0 4 2] [0 2 3 4] 3\n",
      "[0 4 0 3 0 3 4 3 2 1] [0 1 2 3 4] 4\n",
      "[1 0 1 1 3 4 1 2 1 0] [0 1 2 3 4] 4\n",
      "[0 3 0 1 0 4 3 0 0 0] [0 1 3 4] 3\n",
      "[0 4 2 1 2 1 0 1 0 2] [0 1 2 4] 3\n",
      "[3 4 3 4 3 2 2 2 2 4] [2 3 4] 3\n",
      "[4 2 4 4 0 3 4 1 3 2] [0 1 2 3 4] 4\n",
      "[0 1 4 1 4 3 0 3 4 2] [0 1 2 3 4] 4\n",
      "[3 0 4 3 0 3 1 2 2 3] [0 1 2 3 4] 4\n",
      "[2 3 2 3 0 3 2 2 0 4] [0 2 3 4] 3\n"
     ]
    }
   ],
   "source": [
    "import numpy as np\n",
    "\n",
    "# create an example array a\n",
    "a = np.random.randint(0, 5, size=(3, 4, 10))\n",
    "\n",
    "b = np.zeros((a.shape[0], a.shape[1]), dtype=int)\n",
    "\n",
    "for i in range(a.shape[0]):\n",
    "    for j in range(a.shape[1]):\n",
    "        unq = np.unique(a[i, j, :])\n",
    "        # drop the zero value\n",
    "        unq = unq[unq != 0]\n",
    "        b[i, j] = len(unq)\n",
    "        print(a[i, j, :], np.unique(a[i, j, :]), b[i, j])\n"
   ]
  },
  {
   "cell_type": "code",
   "execution_count": null,
   "metadata": {},
   "outputs": [],
   "source": [
    "# c = length of non-zero elements in b on axis=2\n",
    "c = np.count_nonzero(b, axis=2)\n",
    "for i in range(3):\n",
    "    for j in range(4):\n",
    "        print(np.unique(a[i, j, :]), b[i, j, :])"
   ]
  }
 ],
 "metadata": {
  "kernelspec": {
   "display_name": "alabtools_img",
   "language": "python",
   "name": "python3"
  },
  "language_info": {
   "codemirror_mode": {
    "name": "ipython",
    "version": 3
   },
   "file_extension": ".py",
   "mimetype": "text/x-python",
   "name": "python",
   "nbconvert_exporter": "python",
   "pygments_lexer": "ipython3",
   "version": "3.7.3"
  },
  "orig_nbformat": 4
 },
 "nbformat": 4,
 "nbformat_minor": 2
}
