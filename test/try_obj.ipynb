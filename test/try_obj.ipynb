{
 "cells": [
  {
   "cell_type": "code",
   "execution_count": 3,
   "metadata": {},
   "outputs": [],
   "source": [
    "import numpy as np"
   ]
  },
  {
   "cell_type": "code",
   "execution_count": 33,
   "metadata": {},
   "outputs": [],
   "source": [
    "def sort(crd, axis=-1):\n",
    "    \"\"\"Sort coordinates by putting NaN at the end for each list of spots.\n",
    "    \n",
    "    Args:\n",
    "        crd (np.array((ncell, ndomain, ncopy_max, nspot_max, 3), dtype=float))\n",
    "    \"\"\"\n",
    "    \n",
    "    # Mask the NaN values (taking the x coord, doesn't matter which one)\n",
    "    nan_mask = np.isnan(crd[:, :, :, :, 0])  # np.array((ncell, ndomain, ncopy_max, nspot_max), dtype=bool)\n",
    "    # Sort the coordinates by the mask (False first, then True),\n",
    "    # only on the last axis (the spots axis)\n",
    "    sort_subgrid = np.argsort(nan_mask, axis=axis)\n",
    "    # Create a grid of indices to sort the coordinates\n",
    "    grid = np.meshgrid(*[np.arange(i) for i in nan_mask.shape], indexing='ij')\n",
    "    # Replace the last axis of the grid by the sorted indices\n",
    "    grid[axis] = sort_subgrid\n",
    "    # Convert the grid to a tuple of indices\n",
    "    idx = tuple(grid)\n",
    "    # Initialize the sorted coordinates\n",
    "    crd_srt = np.copy(crd)\n",
    "    # Sort the coordinates for each spatial dimension\n",
    "    for i in range(3):\n",
    "        crd_srt[:, :, :, :, i] = crd[:, :, :, :, i][idx]\n",
    "    return crd_srt"
   ]
  },
  {
   "cell_type": "code",
   "execution_count": 34,
   "metadata": {},
   "outputs": [],
   "source": [
    "# Create a sample array\n",
    "ncell, ndomain, ncopy_max, nspot_max = 3, 10, 2, 4\n",
    "np.random.seed(42)\n",
    "crd = np.random.rand(ncell, ndomain, ncopy_max, nspot_max, 3)\n",
    "\n",
    "# introduce some random NaNs\n",
    "nan_prob = 0.3\n",
    "for cellnum in range(ncell):\n",
    "    for domainnum in range(ndomain):\n",
    "        for copynum in range(ncopy_max):\n",
    "            for spotnum in range(nspot_max):\n",
    "                if np.random.rand() < nan_prob:\n",
    "                    crd[cellnum, domainnum, copynum, spotnum, :] = np.array([np.nan, np.nan, np.nan])\n",
    "\n",
    "crd_srt = sort(crd)"
   ]
  },
  {
   "cell_type": "code",
   "execution_count": 35,
   "metadata": {},
   "outputs": [],
   "source": [
    "for cellnum in range(ncell):\n",
    "    for domainnum in range(ndomain):\n",
    "        for copy in range(ncopy_max):\n",
    "            for i in range(3):\n",
    "                x = crd[cellnum, domainnum, copy, :, i]\n",
    "                x_srt = crd_srt[cellnum, domainnum, copy, :, i]\n",
    "                # check that x and x_srt have the same number of NaNs\n",
    "                assert np.sum(np.isnan(x)) == np.sum(np.isnan(x_srt))\n",
    "                # check that has NaNs only at the end\n",
    "                if np.sum(np.isnan(x_srt)) == 0:\n",
    "                    continue\n",
    "                first_nan = np.where(np.isnan(x_srt))[0][0]\n",
    "                assert np.all(np.isnan(x_srt[first_nan:]))"
   ]
  },
  {
   "cell_type": "code",
   "execution_count": 36,
   "metadata": {},
   "outputs": [
    {
     "ename": "SyntaxError",
     "evalue": "invalid syntax (2017268016.py, line 4)",
     "output_type": "error",
     "traceback": [
      "\u001b[0;36m  File \u001b[0;32m\"/tmp/ipykernel_18416/2017268016.py\"\u001b[0;36m, line \u001b[0;32m4\u001b[0m\n\u001b[0;31m    for chrom in\u001b[0m\n\u001b[0m                 ^\u001b[0m\n\u001b[0;31mSyntaxError\u001b[0m\u001b[0;31m:\u001b[0m invalid syntax\n"
     ]
    }
   ],
   "source": [
    "crd[...]  # np.array((ndomain_chr, ncopy_max, nspot_max, 3), dtype=float)\n",
    "chroms = ['chr1', 'chr2', 'chr3', 'chrX']\n",
    "chromstr = np.array(['chr1', 'chr1', 'chr1', 'chr2', 'chr2', 'chr3', 'chrX', 'chrX'])\n",
    "\n",
    "for cellnum in range(ncell):\n",
    "    for chrom in chroms:\n",
    "        crd_cellchr = crd[cellnum, chromstr==chrom, :, :, :]  # np.array((ndomain_chr, ncopy_max, nspot_max, 3), dtype=float)\n",
    "        crd_cellchr_srt = np.copy(crd_cellchr)\n",
    "        # loop copy in reverse order\n",
    "        for cp in range(ncopy_max-1, -1, -1):\n",
    "            crd_cellchr_cp = crd_cellchr[:, cp, :, :]\n",
    "            if np.all(np.isnan(crd_cellchr_cp)):\n",
    "                continue\n",
    "            for cp2 in range(cp):\n",
    "                crd_cellchr_cp2 = crd_cellchr[:, cp2, :, :]\n",
    "                if not np.all(np.isnan(crd_cellchr_cp2)):\n",
    "                    continue\n",
    "                # swap the two copies\n",
    "                crd_cellchr_srt[:, cp, :, :] = crd_cellchr[:, cp2, :, :]\n",
    "                crd_cellchr_srt[:, cp2, :, :] = crd_cellchr[:, cp, :, :]"
   ]
  },
  {
   "cell_type": "code",
   "execution_count": null,
   "metadata": {},
   "outputs": [],
   "source": [
    "nchrom = len(chroms)\n",
    "mask_nan = np.isnan(crd[:, :, :, :, 0])  # np.array((ncell, ndomain, ncopy_max, nspot_max), dtype=bool)\n",
    "# perform all operations on the last axis (the spots axis)\n",
    "mask_nan2 = np.all(mask_nan, axis=-1)  # np.array((ncell, ndomain, ncopy_max), dtype=bool)\n",
    "mask_nan3 = np.zeros((ncell, nchrom, ncopy_max), dtype=bool)\n",
    "for chromnum, chrom in enumerate(chroms):\n",
    "    mask_nan3[:, chromnum, :] = np.all(mask_nan2[:, chromstr==chrom, :], axis=1)"
   ]
  },
  {
   "cell_type": "code",
   "execution_count": null,
   "metadata": {},
   "outputs": [],
   "source": []
  }
 ],
 "metadata": {
  "kernelspec": {
   "display_name": "alabtools_img",
   "language": "python",
   "name": "python3"
  },
  "language_info": {
   "codemirror_mode": {
    "name": "ipython",
    "version": 3
   },
   "file_extension": ".py",
   "mimetype": "text/x-python",
   "name": "python",
   "nbconvert_exporter": "python",
   "pygments_lexer": "ipython3",
   "version": "3.7.3"
  },
  "orig_nbformat": 4
 },
 "nbformat": 4,
 "nbformat_minor": 2
}
